{
 "cells": [
  {
   "cell_type": "code",
   "execution_count": 1,
   "id": "3242dc06-481c-4e03-a61b-49e95a305e6c",
   "metadata": {},
   "outputs": [
    {
     "name": "stdout",
     "output_type": "stream",
     "text": [
      "Running Untitled.ipynb...\n"
     ]
    }
   ],
   "source": [
    "notebook_name = \"Untitled.ipynb\"\n",
    "print(f\"Running {notebook_name}...\")"
   ]
  }
 ],
 "metadata": {
  "kernelspec": {
   "display_name": "env",
   "language": "python",
   "name": "python3"
  },
  "language_info": {
   "codemirror_mode": {
    "name": "ipython",
    "version": 3
   },
   "file_extension": ".py",
   "mimetype": "text/x-python",
   "name": "python",
   "nbconvert_exporter": "python",
   "pygments_lexer": "ipython3",
   "version": "3.10.14"
  }
 },
 "nbformat": 4,
 "nbformat_minor": 5
}
